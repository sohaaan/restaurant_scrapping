{
  "nbformat": 4,
  "nbformat_minor": 0,
  "metadata": {
    "colab": {
      "name": "restaurant_scrapping.ipynb",
      "provenance": [],
      "authorship_tag": "ABX9TyNr2/RxZcs9hUa8tf8wFP0m",
      "include_colab_link": true
    },
    "kernelspec": {
      "name": "python3",
      "display_name": "Python 3"
    },
    "language_info": {
      "name": "python"
    }
  },
  "cells": [
    {
      "cell_type": "markdown",
      "metadata": {
        "id": "view-in-github",
        "colab_type": "text"
      },
      "source": [
        "<a href=\"https://colab.research.google.com/github/sohaaan/restaurant_scrapping/blob/main/restaurant_scrapping.ipynb\" target=\"_parent\"><img src=\"https://colab.research.google.com/assets/colab-badge.svg\" alt=\"Open In Colab\"/></a>"
      ]
    },
    {
      "cell_type": "markdown",
      "source": [
        "First import the necessary library"
      ],
      "metadata": {
        "id": "BnyHLmHKz90C"
      }
    },
    {
      "cell_type": "code",
      "source": [
        "import pandas as pd #to manipulate dataframe\n",
        "import requests #to get the data from the url\n",
        "import json #to handle json data from the url\n",
        "import time #to add some delay so that google API have some time to varify the page token"
      ],
      "metadata": {
        "id": "jw95iS16JVWo"
      },
      "execution_count": null,
      "outputs": []
    },
    {
      "cell_type": "markdown",
      "source": [
        "In order to find restaurants around a place we need the coordinate of the place and then we will find for results around a certain radius."
      ],
      "metadata": {
        "id": "AlA_p4IGYjHy"
      }
    },
    {
      "cell_type": "markdown",
      "source": [
        "For example, I took radius 1000m while searching for restaurants around Mirpur-1. We need to be careful about the radius becasue with googgle API we can at best retrieve **60** results per request. So if the place is very popluated like Dhaka City radious should be small so that we don't miss any restaurant. In my case I took 1km radius as it showed 58 results so I guess I did not miss any restaurant"
      ],
      "metadata": {
        "id": "DL8z1oJ_ZgNW"
      }
    },
    {
      "cell_type": "markdown",
      "source": [
        "We can set different coordinates by a generous distance so that it cover all restaurants of the area and later in cleaning phase we will remove the duplicates"
      ],
      "metadata": {
        "id": "bF3dFDiOah1o"
      }
    },
    {
      "cell_type": "markdown",
      "source": [
        "I only focus on Mirpur area. I took 4 spots which I will use to retrieve the data around"
      ],
      "metadata": {
        "id": "IQdn8h0gbPrP"
      }
    },
    {
      "cell_type": "markdown",
      "source": [
        "I will search retaruants in terms of keywords. It will get places which's type is restaruant, has restaurant in their name and recognized as place for eating"
      ],
      "metadata": {
        "id": "vhVT0O1hcmYy"
      }
    },
    {
      "cell_type": "code",
      "source": [
        "# Parameters\n",
        "coordinates = ['23.799378,90.352992','23.817345,90.372628','23.784263,90.361646','23.801518,90.378728']\n",
        "keyword = 'restaurant'\n",
        "radius = '1000'\n",
        "api_key = 'API KEY' # I removed the API key here as you said. I already generated the result using the API key\n",
        "final_data = []\n",
        "price_stars = ['*','**','***','****']"
      ],
      "metadata": {
        "id": "0TXLb5zHJYRI"
      },
      "execution_count": 1,
      "outputs": []
    },
    {
      "cell_type": "markdown",
      "source": [
        "Then we will generate the url with all the necessary links and the send a get request for data "
      ],
      "metadata": {
        "id": "_mYhExVI1BGI"
      }
    },
    {
      "cell_type": "markdown",
      "source": [
        "Data will be recived in a Json file than will be sotred in `final_data` list"
      ],
      "metadata": {
        "id": "hDYdsxioheO2"
      }
    },
    {
      "cell_type": "code",
      "source": [
        "for coordinate in coordinates:\n",
        "  url = 'https://maps.googleapis.com/maps/api/place/nearbysearch/json?location='+coordinate+'&radius='+str(radius)+'&keyword='+str(keyword)+'&key='+str(api_key)\n",
        "  while True:\n",
        "    print(url)\n",
        "    response = requests.get(url)\n",
        "    js = json.loads(response.text)\n",
        "    results = js['results']\n",
        "    for result in results:\n",
        "      name = result['name']\n",
        "      lat = result['geometry']['location']['lat']\n",
        "      lng = result['geometry']['location']['lng']\n",
        "\n",
        "      if 'rating' in result: #some restaurants aren't yet rated. so we need a condition for them\n",
        "        rating = result['rating']\n",
        "      else:\n",
        "        rating = 'NA'\n",
        "\n",
        "      if 'user_ratings_total' in result: #for nor rated restaurants the number of people will be 0\n",
        "        total_rating = result['user_ratings_total']\n",
        "      else:\n",
        "        total_rating = 0\n",
        "\n",
        "      if 'price_level' in result: #similarly some restaurants have no price level. we will put NA in there\n",
        "        price = result['price_level']\n",
        "        prices = price_stars[int(price)-1]\n",
        "      else:\n",
        "        prices = 'NA'\n",
        "        \n",
        "      data = [name, lat, lng, rating, total_rating, prices]\n",
        "      final_data.append(data)\n",
        "    time.sleep(2)\n",
        "    if 'next_page_token' not in js:\n",
        "      break\n",
        "    else:\n",
        "      next_page_token = js['next_page_token']\n",
        "      url = 'https://maps.googleapis.com/maps/api/place/nearbysearch/json?key='+str(api_key)+'&pagetoken='+str(next_page_token)\n"
      ],
      "metadata": {
        "id": "eNxKYF8SJkCI"
      },
      "execution_count": null,
      "outputs": []
    },
    {
      "cell_type": "markdown",
      "source": [
        "## I removed the output as it contained API information but I kept it in the **file sent in email**"
      ],
      "metadata": {
        "id": "EZLkh8JUSZOh"
      }
    },
    {
      "cell_type": "markdown",
      "source": [
        "Now we will take all data from `final_data` to `df` dataframe\n"
      ],
      "metadata": {
        "id": "pcLGa0L0l3qZ"
      }
    },
    {
      "cell_type": "code",
      "source": [
        "labels = ['Place Name', 'Latitude', 'Longitude','Rating', 'Number of People Rated', 'Price Level']\n",
        "df= pd.DataFrame.from_records(final_data, columns=labels)"
      ],
      "metadata": {
        "id": "cfMdXjOfK0VV"
      },
      "execution_count": null,
      "outputs": []
    },
    {
      "cell_type": "code",
      "source": [
        "df"
      ],
      "metadata": {
        "colab": {
          "base_uri": "https://localhost:8080/",
          "height": 424
        },
        "id": "lso_CFaebKBc",
        "outputId": "92b026d7-c263-4ca4-9266-4e2a5d8b8fcc"
      },
      "execution_count": null,
      "outputs": [
        {
          "output_type": "execute_result",
          "data": {
            "text/html": [
              "\n",
              "  <div id=\"df-c2896de5-40d7-481d-b0d7-7ff52f0b7bc5\">\n",
              "    <div class=\"colab-df-container\">\n",
              "      <div>\n",
              "<style scoped>\n",
              "    .dataframe tbody tr th:only-of-type {\n",
              "        vertical-align: middle;\n",
              "    }\n",
              "\n",
              "    .dataframe tbody tr th {\n",
              "        vertical-align: top;\n",
              "    }\n",
              "\n",
              "    .dataframe thead th {\n",
              "        text-align: right;\n",
              "    }\n",
              "</style>\n",
              "<table border=\"1\" class=\"dataframe\">\n",
              "  <thead>\n",
              "    <tr style=\"text-align: right;\">\n",
              "      <th></th>\n",
              "      <th>Place Name</th>\n",
              "      <th>Latitude</th>\n",
              "      <th>Longitude</th>\n",
              "      <th>Rating</th>\n",
              "      <th>Number of People Rated</th>\n",
              "      <th>Price Level</th>\n",
              "    </tr>\n",
              "  </thead>\n",
              "  <tbody>\n",
              "    <tr>\n",
              "      <th>0</th>\n",
              "      <td>GOVINDA'S SWEETS &amp; RESTAURANT</td>\n",
              "      <td>23.805616</td>\n",
              "      <td>90.361518</td>\n",
              "      <td>4.6</td>\n",
              "      <td>146</td>\n",
              "      <td>NA</td>\n",
              "    </tr>\n",
              "    <tr>\n",
              "      <th>1</th>\n",
              "      <td>Melting Pot (Mirpur)</td>\n",
              "      <td>23.800431</td>\n",
              "      <td>90.355435</td>\n",
              "      <td>5.0</td>\n",
              "      <td>4</td>\n",
              "      <td>NA</td>\n",
              "    </tr>\n",
              "    <tr>\n",
              "      <th>2</th>\n",
              "      <td>Royal Bengal Restaurant</td>\n",
              "      <td>23.802989</td>\n",
              "      <td>90.352788</td>\n",
              "      <td>4.3</td>\n",
              "      <td>44</td>\n",
              "      <td>NA</td>\n",
              "    </tr>\n",
              "    <tr>\n",
              "      <th>3</th>\n",
              "      <td>Sub Station Restaurant</td>\n",
              "      <td>23.806030</td>\n",
              "      <td>90.352018</td>\n",
              "      <td>4.0</td>\n",
              "      <td>108</td>\n",
              "      <td>NA</td>\n",
              "    </tr>\n",
              "    <tr>\n",
              "      <th>4</th>\n",
              "      <td>PERI PASTA</td>\n",
              "      <td>23.803441</td>\n",
              "      <td>90.354751</td>\n",
              "      <td>4.0</td>\n",
              "      <td>1850</td>\n",
              "      <td>**</td>\n",
              "    </tr>\n",
              "    <tr>\n",
              "      <th>...</th>\n",
              "      <td>...</td>\n",
              "      <td>...</td>\n",
              "      <td>...</td>\n",
              "      <td>...</td>\n",
              "      <td>...</td>\n",
              "      <td>...</td>\n",
              "    </tr>\n",
              "    <tr>\n",
              "      <th>226</th>\n",
              "      <td>Bay Leaf Restaurant</td>\n",
              "      <td>23.809889</td>\n",
              "      <td>90.367557</td>\n",
              "      <td>3.7</td>\n",
              "      <td>949</td>\n",
              "      <td>**</td>\n",
              "    </tr>\n",
              "    <tr>\n",
              "      <th>227</th>\n",
              "      <td>Mayer Doa Restaurant</td>\n",
              "      <td>23.797376</td>\n",
              "      <td>90.369816</td>\n",
              "      <td>3.7</td>\n",
              "      <td>28</td>\n",
              "      <td>NA</td>\n",
              "    </tr>\n",
              "    <tr>\n",
              "      <th>228</th>\n",
              "      <td>Xinxian Restaurant- Mirpur 10</td>\n",
              "      <td>23.812559</td>\n",
              "      <td>90.366854</td>\n",
              "      <td>4.0</td>\n",
              "      <td>2477</td>\n",
              "      <td>***</td>\n",
              "    </tr>\n",
              "    <tr>\n",
              "      <th>229</th>\n",
              "      <td>Juice World and Chinese Restaurant</td>\n",
              "      <td>23.790726</td>\n",
              "      <td>90.387760</td>\n",
              "      <td>4.7</td>\n",
              "      <td>9</td>\n",
              "      <td>NA</td>\n",
              "    </tr>\n",
              "    <tr>\n",
              "      <th>230</th>\n",
              "      <td>Al-Baraka Hotel &amp; Restaurant</td>\n",
              "      <td>23.806739</td>\n",
              "      <td>90.368299</td>\n",
              "      <td>3.8</td>\n",
              "      <td>1954</td>\n",
              "      <td>**</td>\n",
              "    </tr>\n",
              "  </tbody>\n",
              "</table>\n",
              "<p>231 rows × 6 columns</p>\n",
              "</div>\n",
              "      <button class=\"colab-df-convert\" onclick=\"convertToInteractive('df-c2896de5-40d7-481d-b0d7-7ff52f0b7bc5')\"\n",
              "              title=\"Convert this dataframe to an interactive table.\"\n",
              "              style=\"display:none;\">\n",
              "        \n",
              "  <svg xmlns=\"http://www.w3.org/2000/svg\" height=\"24px\"viewBox=\"0 0 24 24\"\n",
              "       width=\"24px\">\n",
              "    <path d=\"M0 0h24v24H0V0z\" fill=\"none\"/>\n",
              "    <path d=\"M18.56 5.44l.94 2.06.94-2.06 2.06-.94-2.06-.94-.94-2.06-.94 2.06-2.06.94zm-11 1L8.5 8.5l.94-2.06 2.06-.94-2.06-.94L8.5 2.5l-.94 2.06-2.06.94zm10 10l.94 2.06.94-2.06 2.06-.94-2.06-.94-.94-2.06-.94 2.06-2.06.94z\"/><path d=\"M17.41 7.96l-1.37-1.37c-.4-.4-.92-.59-1.43-.59-.52 0-1.04.2-1.43.59L10.3 9.45l-7.72 7.72c-.78.78-.78 2.05 0 2.83L4 21.41c.39.39.9.59 1.41.59.51 0 1.02-.2 1.41-.59l7.78-7.78 2.81-2.81c.8-.78.8-2.07 0-2.86zM5.41 20L4 18.59l7.72-7.72 1.47 1.35L5.41 20z\"/>\n",
              "  </svg>\n",
              "      </button>\n",
              "      \n",
              "  <style>\n",
              "    .colab-df-container {\n",
              "      display:flex;\n",
              "      flex-wrap:wrap;\n",
              "      gap: 12px;\n",
              "    }\n",
              "\n",
              "    .colab-df-convert {\n",
              "      background-color: #E8F0FE;\n",
              "      border: none;\n",
              "      border-radius: 50%;\n",
              "      cursor: pointer;\n",
              "      display: none;\n",
              "      fill: #1967D2;\n",
              "      height: 32px;\n",
              "      padding: 0 0 0 0;\n",
              "      width: 32px;\n",
              "    }\n",
              "\n",
              "    .colab-df-convert:hover {\n",
              "      background-color: #E2EBFA;\n",
              "      box-shadow: 0px 1px 2px rgba(60, 64, 67, 0.3), 0px 1px 3px 1px rgba(60, 64, 67, 0.15);\n",
              "      fill: #174EA6;\n",
              "    }\n",
              "\n",
              "    [theme=dark] .colab-df-convert {\n",
              "      background-color: #3B4455;\n",
              "      fill: #D2E3FC;\n",
              "    }\n",
              "\n",
              "    [theme=dark] .colab-df-convert:hover {\n",
              "      background-color: #434B5C;\n",
              "      box-shadow: 0px 1px 3px 1px rgba(0, 0, 0, 0.15);\n",
              "      filter: drop-shadow(0px 1px 2px rgba(0, 0, 0, 0.3));\n",
              "      fill: #FFFFFF;\n",
              "    }\n",
              "  </style>\n",
              "\n",
              "      <script>\n",
              "        const buttonEl =\n",
              "          document.querySelector('#df-c2896de5-40d7-481d-b0d7-7ff52f0b7bc5 button.colab-df-convert');\n",
              "        buttonEl.style.display =\n",
              "          google.colab.kernel.accessAllowed ? 'block' : 'none';\n",
              "\n",
              "        async function convertToInteractive(key) {\n",
              "          const element = document.querySelector('#df-c2896de5-40d7-481d-b0d7-7ff52f0b7bc5');\n",
              "          const dataTable =\n",
              "            await google.colab.kernel.invokeFunction('convertToInteractive',\n",
              "                                                     [key], {});\n",
              "          if (!dataTable) return;\n",
              "\n",
              "          const docLinkHtml = 'Like what you see? Visit the ' +\n",
              "            '<a target=\"_blank\" href=https://colab.research.google.com/notebooks/data_table.ipynb>data table notebook</a>'\n",
              "            + ' to learn more about interactive tables.';\n",
              "          element.innerHTML = '';\n",
              "          dataTable['output_type'] = 'display_data';\n",
              "          await google.colab.output.renderOutput(dataTable, element);\n",
              "          const docLink = document.createElement('div');\n",
              "          docLink.innerHTML = docLinkHtml;\n",
              "          element.appendChild(docLink);\n",
              "        }\n",
              "      </script>\n",
              "    </div>\n",
              "  </div>\n",
              "  "
            ],
            "text/plain": [
              "                             Place Name  ...  Price Level\n",
              "0         GOVINDA'S SWEETS & RESTAURANT  ...           NA\n",
              "1                  Melting Pot (Mirpur)  ...           NA\n",
              "2               Royal Bengal Restaurant  ...           NA\n",
              "3                Sub Station Restaurant  ...           NA\n",
              "4                            PERI PASTA  ...           **\n",
              "..                                  ...  ...          ...\n",
              "226                 Bay Leaf Restaurant  ...           **\n",
              "227                Mayer Doa Restaurant  ...           NA\n",
              "228       Xinxian Restaurant- Mirpur 10  ...          ***\n",
              "229  Juice World and Chinese Restaurant  ...           NA\n",
              "230        Al-Baraka Hotel & Restaurant  ...           **\n",
              "\n",
              "[231 rows x 6 columns]"
            ]
          },
          "metadata": {},
          "execution_count": 27
        }
      ]
    },
    {
      "cell_type": "markdown",
      "source": [
        "Now, becasue of overlapping of areas there will be some restaurants which will appear twice. We will remove those by using pandas `drop_duplicates` function"
      ],
      "metadata": {
        "id": "oNOhmeBSmfbI"
      }
    },
    {
      "cell_type": "code",
      "source": [
        "df.drop_duplicates(keep='first', inplace= True)"
      ],
      "metadata": {
        "id": "AMzgCyCkeaOd"
      },
      "execution_count": null,
      "outputs": []
    },
    {
      "cell_type": "code",
      "source": [
        "df"
      ],
      "metadata": {
        "colab": {
          "base_uri": "https://localhost:8080/",
          "height": 424
        },
        "id": "wPy-ArapIcri",
        "outputId": "16aaee41-539f-47df-cf17-c169a0f9a03f"
      },
      "execution_count": null,
      "outputs": [
        {
          "output_type": "execute_result",
          "data": {
            "text/html": [
              "\n",
              "  <div id=\"df-dd53aec1-3f3a-4416-936a-8ae43ec462bf\">\n",
              "    <div class=\"colab-df-container\">\n",
              "      <div>\n",
              "<style scoped>\n",
              "    .dataframe tbody tr th:only-of-type {\n",
              "        vertical-align: middle;\n",
              "    }\n",
              "\n",
              "    .dataframe tbody tr th {\n",
              "        vertical-align: top;\n",
              "    }\n",
              "\n",
              "    .dataframe thead th {\n",
              "        text-align: right;\n",
              "    }\n",
              "</style>\n",
              "<table border=\"1\" class=\"dataframe\">\n",
              "  <thead>\n",
              "    <tr style=\"text-align: right;\">\n",
              "      <th></th>\n",
              "      <th>Place Name</th>\n",
              "      <th>Latitude</th>\n",
              "      <th>Longitude</th>\n",
              "      <th>Rating</th>\n",
              "      <th>Number of People Rated</th>\n",
              "      <th>Price Level</th>\n",
              "    </tr>\n",
              "  </thead>\n",
              "  <tbody>\n",
              "    <tr>\n",
              "      <th>0</th>\n",
              "      <td>GOVINDA'S SWEETS &amp; RESTAURANT</td>\n",
              "      <td>23.805616</td>\n",
              "      <td>90.361518</td>\n",
              "      <td>4.6</td>\n",
              "      <td>146</td>\n",
              "      <td>NA</td>\n",
              "    </tr>\n",
              "    <tr>\n",
              "      <th>1</th>\n",
              "      <td>Melting Pot (Mirpur)</td>\n",
              "      <td>23.800431</td>\n",
              "      <td>90.355435</td>\n",
              "      <td>5.0</td>\n",
              "      <td>4</td>\n",
              "      <td>NA</td>\n",
              "    </tr>\n",
              "    <tr>\n",
              "      <th>2</th>\n",
              "      <td>Royal Bengal Restaurant</td>\n",
              "      <td>23.802989</td>\n",
              "      <td>90.352788</td>\n",
              "      <td>4.3</td>\n",
              "      <td>44</td>\n",
              "      <td>NA</td>\n",
              "    </tr>\n",
              "    <tr>\n",
              "      <th>3</th>\n",
              "      <td>Sub Station Restaurant</td>\n",
              "      <td>23.806030</td>\n",
              "      <td>90.352018</td>\n",
              "      <td>4.0</td>\n",
              "      <td>108</td>\n",
              "      <td>NA</td>\n",
              "    </tr>\n",
              "    <tr>\n",
              "      <th>4</th>\n",
              "      <td>PERI PASTA</td>\n",
              "      <td>23.803441</td>\n",
              "      <td>90.354751</td>\n",
              "      <td>4.0</td>\n",
              "      <td>1850</td>\n",
              "      <td>**</td>\n",
              "    </tr>\n",
              "    <tr>\n",
              "      <th>...</th>\n",
              "      <td>...</td>\n",
              "      <td>...</td>\n",
              "      <td>...</td>\n",
              "      <td>...</td>\n",
              "      <td>...</td>\n",
              "      <td>...</td>\n",
              "    </tr>\n",
              "    <tr>\n",
              "      <th>223</th>\n",
              "      <td>Vai Vai Hotel and Restaurant</td>\n",
              "      <td>23.791080</td>\n",
              "      <td>90.386762</td>\n",
              "      <td>3.9</td>\n",
              "      <td>32</td>\n",
              "      <td>NA</td>\n",
              "    </tr>\n",
              "    <tr>\n",
              "      <th>225</th>\n",
              "      <td>Kabab Museum &amp; Restaurant</td>\n",
              "      <td>23.794015</td>\n",
              "      <td>90.386891</td>\n",
              "      <td>3.7</td>\n",
              "      <td>203</td>\n",
              "      <td>NA</td>\n",
              "    </tr>\n",
              "    <tr>\n",
              "      <th>227</th>\n",
              "      <td>Mayer Doa Restaurant</td>\n",
              "      <td>23.797376</td>\n",
              "      <td>90.369816</td>\n",
              "      <td>3.7</td>\n",
              "      <td>28</td>\n",
              "      <td>NA</td>\n",
              "    </tr>\n",
              "    <tr>\n",
              "      <th>229</th>\n",
              "      <td>Juice World and Chinese Restaurant</td>\n",
              "      <td>23.790726</td>\n",
              "      <td>90.387760</td>\n",
              "      <td>4.7</td>\n",
              "      <td>9</td>\n",
              "      <td>NA</td>\n",
              "    </tr>\n",
              "    <tr>\n",
              "      <th>230</th>\n",
              "      <td>Al-Baraka Hotel &amp; Restaurant</td>\n",
              "      <td>23.806739</td>\n",
              "      <td>90.368299</td>\n",
              "      <td>3.8</td>\n",
              "      <td>1954</td>\n",
              "      <td>**</td>\n",
              "    </tr>\n",
              "  </tbody>\n",
              "</table>\n",
              "<p>214 rows × 6 columns</p>\n",
              "</div>\n",
              "      <button class=\"colab-df-convert\" onclick=\"convertToInteractive('df-dd53aec1-3f3a-4416-936a-8ae43ec462bf')\"\n",
              "              title=\"Convert this dataframe to an interactive table.\"\n",
              "              style=\"display:none;\">\n",
              "        \n",
              "  <svg xmlns=\"http://www.w3.org/2000/svg\" height=\"24px\"viewBox=\"0 0 24 24\"\n",
              "       width=\"24px\">\n",
              "    <path d=\"M0 0h24v24H0V0z\" fill=\"none\"/>\n",
              "    <path d=\"M18.56 5.44l.94 2.06.94-2.06 2.06-.94-2.06-.94-.94-2.06-.94 2.06-2.06.94zm-11 1L8.5 8.5l.94-2.06 2.06-.94-2.06-.94L8.5 2.5l-.94 2.06-2.06.94zm10 10l.94 2.06.94-2.06 2.06-.94-2.06-.94-.94-2.06-.94 2.06-2.06.94z\"/><path d=\"M17.41 7.96l-1.37-1.37c-.4-.4-.92-.59-1.43-.59-.52 0-1.04.2-1.43.59L10.3 9.45l-7.72 7.72c-.78.78-.78 2.05 0 2.83L4 21.41c.39.39.9.59 1.41.59.51 0 1.02-.2 1.41-.59l7.78-7.78 2.81-2.81c.8-.78.8-2.07 0-2.86zM5.41 20L4 18.59l7.72-7.72 1.47 1.35L5.41 20z\"/>\n",
              "  </svg>\n",
              "      </button>\n",
              "      \n",
              "  <style>\n",
              "    .colab-df-container {\n",
              "      display:flex;\n",
              "      flex-wrap:wrap;\n",
              "      gap: 12px;\n",
              "    }\n",
              "\n",
              "    .colab-df-convert {\n",
              "      background-color: #E8F0FE;\n",
              "      border: none;\n",
              "      border-radius: 50%;\n",
              "      cursor: pointer;\n",
              "      display: none;\n",
              "      fill: #1967D2;\n",
              "      height: 32px;\n",
              "      padding: 0 0 0 0;\n",
              "      width: 32px;\n",
              "    }\n",
              "\n",
              "    .colab-df-convert:hover {\n",
              "      background-color: #E2EBFA;\n",
              "      box-shadow: 0px 1px 2px rgba(60, 64, 67, 0.3), 0px 1px 3px 1px rgba(60, 64, 67, 0.15);\n",
              "      fill: #174EA6;\n",
              "    }\n",
              "\n",
              "    [theme=dark] .colab-df-convert {\n",
              "      background-color: #3B4455;\n",
              "      fill: #D2E3FC;\n",
              "    }\n",
              "\n",
              "    [theme=dark] .colab-df-convert:hover {\n",
              "      background-color: #434B5C;\n",
              "      box-shadow: 0px 1px 3px 1px rgba(0, 0, 0, 0.15);\n",
              "      filter: drop-shadow(0px 1px 2px rgba(0, 0, 0, 0.3));\n",
              "      fill: #FFFFFF;\n",
              "    }\n",
              "  </style>\n",
              "\n",
              "      <script>\n",
              "        const buttonEl =\n",
              "          document.querySelector('#df-dd53aec1-3f3a-4416-936a-8ae43ec462bf button.colab-df-convert');\n",
              "        buttonEl.style.display =\n",
              "          google.colab.kernel.accessAllowed ? 'block' : 'none';\n",
              "\n",
              "        async function convertToInteractive(key) {\n",
              "          const element = document.querySelector('#df-dd53aec1-3f3a-4416-936a-8ae43ec462bf');\n",
              "          const dataTable =\n",
              "            await google.colab.kernel.invokeFunction('convertToInteractive',\n",
              "                                                     [key], {});\n",
              "          if (!dataTable) return;\n",
              "\n",
              "          const docLinkHtml = 'Like what you see? Visit the ' +\n",
              "            '<a target=\"_blank\" href=https://colab.research.google.com/notebooks/data_table.ipynb>data table notebook</a>'\n",
              "            + ' to learn more about interactive tables.';\n",
              "          element.innerHTML = '';\n",
              "          dataTable['output_type'] = 'display_data';\n",
              "          await google.colab.output.renderOutput(dataTable, element);\n",
              "          const docLink = document.createElement('div');\n",
              "          docLink.innerHTML = docLinkHtml;\n",
              "          element.appendChild(docLink);\n",
              "        }\n",
              "      </script>\n",
              "    </div>\n",
              "  </div>\n",
              "  "
            ],
            "text/plain": [
              "                             Place Name  ...  Price Level\n",
              "0         GOVINDA'S SWEETS & RESTAURANT  ...           NA\n",
              "1                  Melting Pot (Mirpur)  ...           NA\n",
              "2               Royal Bengal Restaurant  ...           NA\n",
              "3                Sub Station Restaurant  ...           NA\n",
              "4                            PERI PASTA  ...           **\n",
              "..                                  ...  ...          ...\n",
              "223        Vai Vai Hotel and Restaurant  ...           NA\n",
              "225           Kabab Museum & Restaurant  ...           NA\n",
              "227                Mayer Doa Restaurant  ...           NA\n",
              "229  Juice World and Chinese Restaurant  ...           NA\n",
              "230        Al-Baraka Hotel & Restaurant  ...           **\n",
              "\n",
              "[214 rows x 6 columns]"
            ]
          },
          "metadata": {},
          "execution_count": 29
        }
      ]
    },
    {
      "cell_type": "markdown",
      "source": [
        "Finally we will convert the dataframe df to csv file and save it"
      ],
      "metadata": {
        "id": "vqUAYQs0nsCJ"
      }
    },
    {
      "cell_type": "code",
      "source": [
        "df.to_csv('restarants_mipur.csv')"
      ],
      "metadata": {
        "id": "FT_qys-ynHlH"
      },
      "execution_count": null,
      "outputs": []
    },
    {
      "cell_type": "markdown",
      "source": [
        "# Notes:\n",
        "\n",
        "\n",
        "1. Radius is very important. If we want to retrieve data from a populated place we should keep the radius very  small so that, we don't lose any restaurant. In case of not very popular place we cane provide radius of very big number, this way we can get the data with less number of get request\n",
        "2. Sometimes restaurants are named as hotel in our country. We can include those by using a keyowrd named 'hotel' but it may confuse with the residential hotels. So I exclude that.\n",
        "\n"
      ],
      "metadata": {
        "id": "B5Kf2Vp_n2dD"
      }
    }
  ]
}